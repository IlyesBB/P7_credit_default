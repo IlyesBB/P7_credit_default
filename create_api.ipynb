{
 "cells": [
  {
   "cell_type": "markdown",
   "metadata": {},
   "source": [
    "# Importations et chargement des données"
   ]
  },
  {
   "cell_type": "code",
   "execution_count": 2,
   "metadata": {},
   "outputs": [],
   "source": [
    "from mlflow.models.signature import infer_signature\n",
    "import pandas as pd\n",
    "from sklearn.model_selection import train_test_split\n",
    "import mlflow.sklearn\n",
    "from joblib import load\n",
    "import os"
   ]
  },
  {
   "cell_type": "code",
   "execution_count": 3,
   "metadata": {},
   "outputs": [],
   "source": [
    "data_dir = \"./home-credit-default-risk\"\n",
    "app = pd.read_csv(data_dir+'/application_train_preprocessed.csv')"
   ]
  },
  {
   "cell_type": "code",
   "execution_count": 4,
   "metadata": {},
   "outputs": [],
   "source": [
    "target = app['TARGET']\n",
    "app.drop(columns=['TARGET'], inplace=True)"
   ]
  },
  {
   "cell_type": "code",
   "execution_count": 5,
   "metadata": {},
   "outputs": [],
   "source": [
    "app = app.set_index('SK_ID_CURR')"
   ]
  },
  {
   "cell_type": "code",
   "execution_count": 6,
   "metadata": {},
   "outputs": [],
   "source": [
    "X_train, X_test, y_train, y_test = train_test_split(app.to_numpy(), target.to_numpy(), test_size=0.2)"
   ]
  },
  {
   "cell_type": "markdown",
   "metadata": {},
   "source": [
    "# Sauvegarde du modèle avec Mlflow   \n",
    "Attention, le répertoire mlflow_model doit être supprimé avant"
   ]
  },
  {
   "cell_type": "code",
   "execution_count": 11,
   "metadata": {},
   "outputs": [],
   "source": [
    "signature = infer_signature(X_train, y_train)"
   ]
  },
  {
   "cell_type": "markdown",
   "metadata": {},
   "source": [
    "On charge le modèle à partir de notre fichier joblib"
   ]
  },
  {
   "cell_type": "code",
   "execution_count": 13,
   "metadata": {},
   "outputs": [],
   "source": [
    "model = load('./joblib/adaboost.joblib')"
   ]
  },
  {
   "cell_type": "markdown",
   "metadata": {},
   "source": [
    "On modifie la fonction predict pour qu'elle nous retourne la probabilité. En effet, le modèle Mlflow ne gère que cette fonction."
   ]
  },
  {
   "cell_type": "code",
   "execution_count": 21,
   "metadata": {},
   "outputs": [],
   "source": [
    "model.predict = model.predict_proba"
   ]
  },
  {
   "cell_type": "code",
   "execution_count": 22,
   "metadata": {},
   "outputs": [],
   "source": [
    "mlflow.sklearn.save_model(model, 'mlflow_model', signature=signature)"
   ]
  },
  {
   "cell_type": "markdown",
   "metadata": {},
   "source": [
    "# Essai sur un exemple"
   ]
  },
  {
   "cell_type": "markdown",
   "metadata": {},
   "source": [
    "On extrait les features en entrée du premier individus"
   ]
  },
  {
   "cell_type": "code",
   "execution_count": 18,
   "metadata": {},
   "outputs": [
    {
     "data": {
      "text/plain": [
       "'[1.05, -0.15, -0.75, -1.75, -1.31, 0.0, -0.55, -1.27, -1.02, -0.5, 0.21, 0.0, 0.0, 0.0, 0.0, 0.0, 0.0, 0.0, 0.0, 0.0, 0.0, -1.74, 17.64, 4.31, 0.11, 0.0, 0.0, 0.0, 10.0, 0.56, 0.55, -0.34, -0.16, 0.36, 0.51, 0.85, -0.72, -1.06, -0.55]'"
      ]
     },
     "execution_count": 18,
     "metadata": {},
     "output_type": "execute_result"
    }
   ],
   "source": [
    "str([round(x, 2) for x in X_train[0]])"
   ]
  },
  {
   "cell_type": "markdown",
   "metadata": {},
   "source": [
    "On démarre notre serveur avec la commande suivante sur bash:"
   ]
  },
  {
   "cell_type": "markdown",
   "metadata": {},
   "source": [
    "mlflow models serve -m mlflow_model/"
   ]
  },
  {
   "cell_type": "markdown",
   "metadata": {},
   "source": [
    "Reste à entrer la requête suivante dans un autre terminal:"
   ]
  },
  {
   "cell_type": "markdown",
   "metadata": {},
   "source": [
    "curl http://127.0.0.1:5000/invocations -H 'Content-Type: application/json' -d '{\"data\": [[1.05, -0.15, -0.75, -1.75, -1.31, 0.0, -0.55, -1.27, -1.02, -0.5, 0.21, 0.0, 0.0, 0.0, 0.0, 0.0, 0.0, 0.0, 0.0, 0.0, 0.0, -1.74, 17.64, 4.31, 0.11, 0.0, 0.0, 0.0, 10.0, 0.56, 0.55, -0.34, -0.16, 0.36, 0.51, 0.85, -0.72, -1.06, -0.55]]}'"
   ]
  },
  {
   "cell_type": "markdown",
   "metadata": {},
   "source": [
    "On peut aussi faire l'essai à partir du notebook"
   ]
  },
  {
   "cell_type": "code",
   "execution_count": 32,
   "metadata": {},
   "outputs": [
    {
     "name": "stderr",
     "output_type": "stream",
     "text": [
      "  % Total    % Received % Xferd  Average Speed   Time    Time     Time  Current\n",
      "                                 Dload  Upload   Total   Spent    Left  Speed\n",
      "100   288  100    42  100   246   5167  30269 --:--:-- --:--:-- --:--:-- 36000\n"
     ]
    }
   ],
   "source": [
    "res = os.popen('curl http://127.0.0.1:5000/invocations -H \\'Content-Type: application/json\\' -d \\'{\"data\": [[1.05, -0.15, -0.75, -1.75, -1.31, 0.0, -0.55, -1.27, -1.02, -0.5, 0.21, 0.0, 0.0, 0.0, 0.0, 0.0, 0.0, 0.0, 0.0, 0.0, 0.0, -1.74, 17.64, 4.31, 0.11, 0.0, 0.0, 0.0, 10.0, 0.56, 0.55, -0.34, -0.16, 0.36, 0.51, 0.85, -0.72, -1.06, -0.55]]}\\'')"
   ]
  },
  {
   "cell_type": "code",
   "execution_count": 33,
   "metadata": {},
   "outputs": [],
   "source": [
    "res = res.read()\n",
    "res_ = res.split(',')[1]\n",
    "res_ = float(res_[:-2])\n",
    "res_"
   ]
  }
 ],
 "metadata": {
  "interpreter": {
   "hash": "5c1a958e0663461a9be97ebf99c83b53f915c086a165ea92356127903bb8f64c"
  },
  "kernelspec": {
   "display_name": "Python 3.8.10 ('venv': venv)",
   "language": "python",
   "name": "python3"
  },
  "language_info": {
   "codemirror_mode": {
    "name": "ipython",
    "version": 3
   },
   "file_extension": ".py",
   "mimetype": "text/x-python",
   "name": "python",
   "nbconvert_exporter": "python",
   "pygments_lexer": "ipython3",
   "version": "3.8.10"
  },
  "orig_nbformat": 4
 },
 "nbformat": 4,
 "nbformat_minor": 2
}
