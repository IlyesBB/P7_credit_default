{
 "cells": [
  {
   "cell_type": "markdown",
   "metadata": {},
   "source": [
    "Ce notebook sert juste à enregistrer les tables pré-traités pour accélérer le lancement de l'application."
   ]
  },
  {
   "cell_type": "code",
   "execution_count": 1,
   "metadata": {},
   "outputs": [],
   "source": [
    "import pandas as pd\n",
    "from joblib import load\n",
    "from preprocessing_functions import load_joblibs, preprocess_data"
   ]
  },
  {
   "cell_type": "code",
   "execution_count": 2,
   "metadata": {},
   "outputs": [],
   "source": [
    "# Chargement des données, des fonctions de preprocessing et du modèle\n",
    "data_dir = './home-credit-default-risk'\n",
    "app = pd.read_csv(data_dir + '/application_test.csv')\n",
    "app_train = pd.read_csv(data_dir + '/application_train.csv')\n",
    "target = app_train['TARGET']\n",
    "app_train.drop(columns=['TARGET'], inplace=True)\n",
    "bureau = pd.read_csv(data_dir + '/bureau.csv')\n",
    "prev_app = pd.read_csv(data_dir + '/previous_application.csv')\n",
    "card = pd.read_csv(data_dir+'/credit_card_balance.csv')\n",
    "cash = pd.read_csv(data_dir+'/POS_CASH_balance.csv')"
   ]
  },
  {
   "cell_type": "code",
   "execution_count": 3,
   "metadata": {},
   "outputs": [],
   "source": [
    "onehot_encoder, label_encoders, mean_imputer, most_freq_imputer, scaler = load_joblibs(\n",
    "    './joblib')\n",
    "model = load('./joblib/log_reg.joblib')"
   ]
  },
  {
   "cell_type": "code",
   "execution_count": 4,
   "metadata": {},
   "outputs": [],
   "source": [
    "app = preprocess_data(\n",
    "    app, bureau, prev_app, card, cash, onehot_encoder, label_encoders, mean_imputer, most_freq_imputer, scaler)"
   ]
  },
  {
   "cell_type": "code",
   "execution_count": 5,
   "metadata": {},
   "outputs": [],
   "source": [
    "prev_app = pd.read_csv(data_dir + '/previous_application.csv')"
   ]
  },
  {
   "cell_type": "code",
   "execution_count": 6,
   "metadata": {},
   "outputs": [],
   "source": [
    "app_train = preprocess_data(\n",
    "    app_train, bureau, prev_app, card, cash, onehot_encoder, label_encoders, mean_imputer, most_freq_imputer, scaler)"
   ]
  },
  {
   "cell_type": "code",
   "execution_count": 7,
   "metadata": {},
   "outputs": [],
   "source": [
    "target.index = app_train.index\n",
    "app_train['TARGET'] = target"
   ]
  },
  {
   "cell_type": "code",
   "execution_count": 8,
   "metadata": {},
   "outputs": [],
   "source": [
    "app.to_csv(data_dir+'/application_test_preprocessed.csv')"
   ]
  },
  {
   "cell_type": "code",
   "execution_count": 9,
   "metadata": {},
   "outputs": [],
   "source": [
    "app_train.to_csv(data_dir+'/application_train_preprocessed.csv')"
   ]
  }
 ],
 "metadata": {
  "interpreter": {
   "hash": "5c1a958e0663461a9be97ebf99c83b53f915c086a165ea92356127903bb8f64c"
  },
  "kernelspec": {
   "display_name": "Python 3.8.10 ('venv': venv)",
   "language": "python",
   "name": "python3"
  },
  "language_info": {
   "codemirror_mode": {
    "name": "ipython",
    "version": 3
   },
   "file_extension": ".py",
   "mimetype": "text/x-python",
   "name": "python",
   "nbconvert_exporter": "python",
   "pygments_lexer": "ipython3",
   "version": "3.8.10"
  },
  "orig_nbformat": 4
 },
 "nbformat": 4,
 "nbformat_minor": 2
}
