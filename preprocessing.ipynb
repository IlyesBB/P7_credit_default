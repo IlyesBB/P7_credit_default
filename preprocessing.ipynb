{
 "cells": [
  {
   "cell_type": "markdown",
   "metadata": {},
   "source": [
    "# Importations et chargement des donéees "
   ]
  },
  {
   "cell_type": "code",
   "execution_count": 1,
   "metadata": {},
   "outputs": [],
   "source": [
    "import re\n",
    "import pandas as pd\n",
    "from sklearn.preprocessing import StandardScaler\n",
    "from sklearn.impute import SimpleImputer\n",
    "import numpy as np\n",
    "from joblib import dump, load\n",
    "from sklearn.manifold import TSNE\n",
    "import matplotlib.pyplot as plt\n",
    "from preprocessing_functions import encode_labels, encode_onehot, engineer_features, less_filled, drop_outliers_all, preprocess_data, load_joblibs\n",
    "from sklearn.linear_model import LinearRegression\n",
    "\n"
   ]
  },
  {
   "cell_type": "code",
   "execution_count": 2,
   "metadata": {},
   "outputs": [],
   "source": [
    "# data_dir: Répertoire contenant les bases de données\n",
    "data_dir = 'home-credit-default-risk'\n",
    "# app: Table contenant les données de chaque candidature\n",
    "app = pd.read_csv(data_dir + '/application_train.csv')\n",
    "# bureau: Table des données des prêt effectués dans des organismes extérieures\n",
    "bureau = pd.read_csv(data_dir + '/bureau.csv')\n",
    "prev_app = pd.read_csv(data_dir + '/previous_application.csv')\n",
    "card = pd.read_csv(data_dir+'/credit_card_balance.csv')\n",
    "cash = pd.read_csv(data_dir+'/POS_CASH_balance.csv')\n"
   ]
  },
  {
   "cell_type": "markdown",
   "metadata": {},
   "source": [
    "On enregistre la variable target et les indentifiants des clients dans des séries à part."
   ]
  },
  {
   "cell_type": "code",
   "execution_count": 3,
   "metadata": {},
   "outputs": [],
   "source": [
    "# target: Valeurs à prédire\n",
    "target = app['TARGET']\n",
    "target.index = app['SK_ID_CURR']\n",
    "app.drop(columns=['TARGET'], inplace=True)"
   ]
  },
  {
   "cell_type": "code",
   "execution_count": 4,
   "metadata": {},
   "outputs": [],
   "source": [
    "# client_id: Series contenant les identifiants des clients\n",
    "client_id = app.index"
   ]
  },
  {
   "cell_type": "markdown",
   "metadata": {},
   "source": [
    "# Feature engineering"
   ]
  },
  {
   "cell_type": "markdown",
   "metadata": {},
   "source": [
    "Une variable qu'on suppose déterminante, est la somme des paiements annuels liés aux prêts pour chaque client. On va extraire les informations des prêts actifs."
   ]
  },
  {
   "cell_type": "markdown",
   "metadata": {},
   "source": [
    "## previous_application: Annuity"
   ]
  },
  {
   "cell_type": "markdown",
   "metadata": {},
   "source": [
    "Essayons de compléter les valeurs manquantes de cette variable"
   ]
  },
  {
   "cell_type": "code",
   "execution_count": 5,
   "metadata": {},
   "outputs": [
    {
     "data": {
      "text/plain": [
       "AMT_ANNUITY        1.000000\n",
       "AMT_GOODS_PRICE    0.820895\n",
       "AMT_CREDIT         0.816429\n",
       "AMT_APPLICATION    0.808872\n",
       "CNT_PAYMENT        0.394535\n",
       "Name: AMT_ANNUITY, dtype: float64"
      ]
     },
     "execution_count": 5,
     "metadata": {},
     "output_type": "execute_result"
    }
   ],
   "source": [
    "prev_app_corr = prev_app.corr()\n",
    "prev_app_corr['AMT_ANNUITY'].sort_values(ascending=False).head()"
   ]
  },
  {
   "cell_type": "code",
   "execution_count": 6,
   "metadata": {},
   "outputs": [
    {
     "name": "stdout",
     "output_type": "stream",
     "text": [
      "Taux de remplissage: 1.00\n"
     ]
    }
   ],
   "source": [
    "print(\"Taux de remplissage: %.2f\" % (prev_app.count()['AMT_CREDIT']/len(prev_app)))"
   ]
  },
  {
   "cell_type": "markdown",
   "metadata": {},
   "source": [
    "## Fonction de feature engineering"
   ]
  },
  {
   "cell_type": "markdown",
   "metadata": {},
   "source": [
    "Le feature engineering est concentré dans une fonction définie dans le fichier preprocessing_functions.py.   \n",
    "Cette fonction va agréger l'ensemble des données contenues dans les tables POS_CASH_balance, credit_balance, previous_application, bureau. Elle va aussi créer de nouvelles variables, notamment des indicateurs liés au crédit actuellement actifs."
   ]
  },
  {
   "cell_type": "code",
   "execution_count": 7,
   "metadata": {},
   "outputs": [],
   "source": [
    "app = engineer_features(app, bureau, prev_app, card, cash)"
   ]
  },
  {
   "cell_type": "markdown",
   "metadata": {},
   "source": [
    "On **enregistre les identifiants des clients à part**, car ce n'est pas une variable qu'on veut prendre en compte pour la prédiction."
   ]
  },
  {
   "cell_type": "markdown",
   "metadata": {},
   "source": [
    "# Encodage"
   ]
  },
  {
   "cell_type": "markdown",
   "metadata": {},
   "source": [
    "On  va encoder les variables catégorielles pour avoir des profils représentés par des **variables quantitatives uniquement**."
   ]
  },
  {
   "cell_type": "markdown",
   "metadata": {},
   "source": [
    "## Ciblage des variables catégorielles"
   ]
  },
  {
   "cell_type": "markdown",
   "metadata": {},
   "source": [
    "Cibler les variables catégorielles va permettre de:\n",
    "- Encoder celles qui sont à valeurs dans object\n",
    "- Faire une imputation et un ré-échantillonnage adapter au type de variable."
   ]
  },
  {
   "cell_type": "code",
   "execution_count": 8,
   "metadata": {},
   "outputs": [],
   "source": [
    "# rexexp: Pré-fixes des variables catégorielles à valeurs entières dans application\n",
    "regexp = '(FLAG_)|(REG_)|(LIVE_)'\n",
    "# quali_int: Variables catégorielles à valeurs entières\n",
    "quali_int = app.select_dtypes(include=[\"int\"]).columns\n",
    "quali_int = quali_int[[bool(re.match(regexp, feature)) for feature in quali_int]]\n",
    "# quali_obj: Variables catégorielles à valeurs dans object\n",
    "quali_obj = app.select_dtypes(include=[\"object\"]).columns.tolist()\n"
   ]
  },
  {
   "cell_type": "markdown",
   "metadata": {},
   "source": [
    "Reste à différencier les cas d'encodage en fonction de si la variable:\n",
    "- A uniquement 2 valeurs possibles: **LabelEncoder**\n",
    "- Ou si elle en a plus de 2: **OneHotEncoder**"
   ]
  },
  {
   "cell_type": "code",
   "execution_count": 9,
   "metadata": {},
   "outputs": [],
   "source": [
    "# n_uniq_obj: Nombre de valeurs pour une variable catégorielle (ici, pour les variables à encoder)\n",
    "n_uniq_obj = app[quali_obj].nunique()\n",
    "# obj_2_uniq: Noms des variables catégorielles à 2 valeurs\n",
    "obj_2_uniq = n_uniq_obj[n_uniq_obj == 2].index.to_series()\n",
    "# obj_n_uniq: Noms des variables catégorielles à plus de 2 valeurs\n",
    "obj_n_uniq = n_uniq_obj[n_uniq_obj > 2].index.to_series()\n"
   ]
  },
  {
   "cell_type": "markdown",
   "metadata": {},
   "source": [
    "## Encodage par label"
   ]
  },
  {
   "cell_type": "code",
   "execution_count": 10,
   "metadata": {},
   "outputs": [],
   "source": [
    "# label_enc: Dictionnaire des encodeurs pour les variables catégorielles de type object à 2 valeurs \n",
    "label_enc = {}\n",
    "for feature in obj_2_uniq.index:\n",
    "    label_enc[feature], app[feature] = encode_labels(feature, app)"
   ]
  },
  {
   "cell_type": "markdown",
   "metadata": {},
   "source": [
    "## Encodage OneHot"
   ]
  },
  {
   "cell_type": "code",
   "execution_count": 11,
   "metadata": {},
   "outputs": [],
   "source": [
    "# onehot_enc: Encodeur onehot de notre table principale\n",
    "onehot_enc, app = encode_onehot(obj_n_uniq, app)"
   ]
  },
  {
   "cell_type": "code",
   "execution_count": 12,
   "metadata": {},
   "outputs": [],
   "source": [
    "# names_quali: On enregistre la liste des variables catégorielles\n",
    "names_quali = quali_int.tolist()+onehot_enc.get_feature_names_out().tolist()+obj_2_uniq.tolist()\n"
   ]
  },
  {
   "cell_type": "markdown",
   "metadata": {},
   "source": [
    "On supprime certaines variables correspondant à la valeur NaN contenue dans une variable catégorielle."
   ]
  },
  {
   "cell_type": "code",
   "execution_count": 13,
   "metadata": {},
   "outputs": [],
   "source": [
    "regexp1, regexp2 = \"XNA\", 'nan'\n",
    "# is_nan: Contient si la variable représente la présence de la valeur NaN\n",
    "is_nan = np.array([bool(re.search(regexp1, col)) or bool(re.search(regexp2, col)) for col in app.columns])\n",
    "# cols_nan: Colonnes représentant la valeur NaN dans une variable\n",
    "cols_nan = app.columns[is_nan]"
   ]
  },
  {
   "cell_type": "code",
   "execution_count": 14,
   "metadata": {},
   "outputs": [],
   "source": [
    "app.drop(columns=cols_nan, inplace=True)\n",
    "# On met à jour la liste de nos variables catégorielles\n",
    "names_quali = [feature for feature in names_quali if feature not in cols_nan]"
   ]
  },
  {
   "cell_type": "markdown",
   "metadata": {},
   "source": [
    "# Nettoyage   \n",
    "Pour le nettoyage, on va:\n",
    "- Supprimer les **doublons**\n",
    "- Supprimer les **variables redondantes**, en se basant sur les corrélations fortes\n",
    "- Supprimer les **variables faiblement corrélées** à la target\n",
    "- Supprimer les **colonnes creuses**\n",
    "- Supprimer les **outliers**\n",
    "- **Imputer** les données manquantes:\n",
    "    - **Par la moyenne** pour les variables quantitatives\n",
    "    - **Par la valeur la plus fréquente** pour les catégories\n",
    "- **Réduire et normaliser** les données"
   ]
  },
  {
   "cell_type": "markdown",
   "metadata": {},
   "source": [
    "## Étude des corrélations"
   ]
  },
  {
   "cell_type": "markdown",
   "metadata": {},
   "source": [
    "### Calcul des coefficients de corrélation"
   ]
  },
  {
   "cell_type": "code",
   "execution_count": 15,
   "metadata": {},
   "outputs": [],
   "source": [
    "# corr_matrix: Tableau des coefficients de corrélation pour chaque couple de variables\n",
    "app['TARGET'] = target\n",
    "# corr_matrix: Matrice des corrélations de notre table\n",
    "corr_matrix = app.corr()\n",
    "app.drop(columns=['TARGET'], inplace=True)\n"
   ]
  },
  {
   "cell_type": "markdown",
   "metadata": {},
   "source": [
    "On va construire la tables des paires de corrélations, contenant 3 colonnes:\n",
    "- **feature_1**: Nom de la 1ère feature\n",
    "- **feature_2**: Nom de la 2ème feature\n",
    "- **pearson**: Coefficient de corrélation entre feature_1 et feature_2"
   ]
  },
  {
   "cell_type": "code",
   "execution_count": 16,
   "metadata": {},
   "outputs": [],
   "source": [
    "# corr_data: Matrice des corrélation avec NaN à la place des doublons\n",
    "corr_data = corr_matrix.where(\n",
    "    np.triu(np.ones(corr_matrix.shape), k=1).astype(bool))\n",
    "# corr_data: Liste contenant les triplet (feature1, feature2, coefficient_corr)\n",
    "corr_data = corr_data.unstack().reset_index()\n",
    "corr_data.columns = ['feature_1', 'feature_2', 'pearson']\n",
    "# On supprime les coefficients valant NaN (qui étaient des doublons)\n",
    "corr_data.dropna(subset=['pearson'], inplace=True)\n",
    "# On prend la valeur absolue arrondie à 3 chiffres des coefficients\n",
    "corr_data['pearson'] = round(corr_data['pearson'], 3)\n",
    "corr_data['pearson'] = abs(corr_data['pearson'])\n",
    "corr_data = corr_data.sort_values(by='pearson', ascending=False)\n"
   ]
  },
  {
   "cell_type": "markdown",
   "metadata": {},
   "source": [
    "### Suppression des corrélations fortes"
   ]
  },
  {
   "cell_type": "code",
   "execution_count": 17,
   "metadata": {},
   "outputs": [
    {
     "name": "stdout",
     "output_type": "stream",
     "text": [
      "On a trouvé 584 corrélations fortes\n"
     ]
    }
   ],
   "source": [
    "# corr_min: Coefficient minimal pour considérer la corrélation comme forte\n",
    "corr_min = 0.75\n",
    "# corr_data: Va contenir les paire de variables fortement corrélées\n",
    "corr_data = corr_data[corr_data['pearson'] >= corr_min]\n",
    "print(\"On a trouvé %d corrélations fortes\" % len(corr_data))\n"
   ]
  },
  {
   "cell_type": "markdown",
   "metadata": {},
   "source": [
    "Pour chaque couple de variables corrélées fortement, on prend **la variable dont le taux de remplissage est le plus élevé**."
   ]
  },
  {
   "cell_type": "code",
   "execution_count": 18,
   "metadata": {},
   "outputs": [],
   "source": [
    "# corr_features: Va contenir la liste des variables à supprimer, car redondantes\n",
    "corr_features = corr_data[['feature_1', 'feature_2']]\n",
    "corr_features = corr_features.apply(less_filled, args=(corr_matrix['TARGET'].map(abs),), axis=1)\n"
   ]
  },
  {
   "cell_type": "markdown",
   "metadata": {},
   "source": [
    "### Suppression des corrélations faibles"
   ]
  },
  {
   "cell_type": "code",
   "execution_count": 19,
   "metadata": {},
   "outputs": [],
   "source": [
    "# corr_target: Série contenant les corrélations des features avec la target\n",
    "corr_target = corr_matrix['TARGET']\n",
    "# least_corr_features: Variables peu pertinentes, car faiblement corrélée avec la target\n",
    "least_corr_features = corr_target.index[abs(corr_target) < 0.05]"
   ]
  },
  {
   "cell_type": "code",
   "execution_count": 20,
   "metadata": {},
   "outputs": [
    {
     "name": "stdout",
     "output_type": "stream",
     "text": [
      "76 variables suffisamment corrélées à TARGET\n"
     ]
    }
   ],
   "source": [
    "print(\"%d variables suffisamment corrélées à TARGET\" % (len(app.columns)-len(least_corr_features)))"
   ]
  },
  {
   "cell_type": "markdown",
   "metadata": {},
   "source": [
    "Les variables les plus corrélées à la cible sont:"
   ]
  },
  {
   "cell_type": "code",
   "execution_count": 51,
   "metadata": {},
   "outputs": [
    {
     "data": {
      "text/plain": [
       "EXT_SOURCE_3                                    0.178919\n",
       "EXT_SOURCE_2                                    0.160472\n",
       "EXT_SOURCE_1                                    0.155317\n",
       "bureau_DAYS_CREDIT_mean                         0.091525\n",
       "bureau_CREDIT_ACTIVE_Closed_count_norm          0.081102\n",
       "bureau_CREDIT_ACTIVE_Active_count_norm          0.079090\n",
       "DAYS_BIRTH                                      0.078239\n",
       "bureau_DAYS_CREDIT_min                          0.078046\n",
       "prev_NAME_CONTRACT_STATUS_Refused_count_norm    0.077671\n",
       "Name: TARGET, dtype: float64"
      ]
     },
     "execution_count": 51,
     "metadata": {},
     "output_type": "execute_result"
    }
   ],
   "source": [
    "abs(corr_target.dropna()).sort_values(ascending=False).iloc[1:10]"
   ]
  },
  {
   "cell_type": "markdown",
   "metadata": {},
   "source": [
    "### Mise à jour\n",
    "On va maintenant prendre en compte les résulats de l'étude des corrélations dans notre étude."
   ]
  },
  {
   "cell_type": "code",
   "execution_count": 22,
   "metadata": {},
   "outputs": [],
   "source": [
    "# to_drop: Variables à supprimer, suite à l'étude des corrélations\n",
    "to_drop = set(corr_features.tolist()+least_corr_features.tolist())"
   ]
  },
  {
   "cell_type": "markdown",
   "metadata": {},
   "source": [
    "On va obligatoirement garder certaines variables indispensables:\n",
    "- La rente annuelle\n",
    "- Les revenus annuels\n",
    "- Le montant total du crédit"
   ]
  },
  {
   "cell_type": "code",
   "execution_count": 24,
   "metadata": {},
   "outputs": [],
   "source": [
    "for feature_to_keep in ['AMT_ANNUITY', 'AMT_INCOME_TOTAL', 'AMT_CREDIT']:\n",
    "    if feature_to_keep in to_drop:\n",
    "        to_drop.remove(feature_to_keep)"
   ]
  },
  {
   "cell_type": "code",
   "execution_count": 25,
   "metadata": {},
   "outputs": [
    {
     "name": "stdout",
     "output_type": "stream",
     "text": [
      "71 variables suffisamment corrélées à TARGET et pas fortement corrélées à d'autres\n"
     ]
    }
   ],
   "source": [
    "print(\"%d variables suffisamment corrélées à TARGET et pas fortement corrélées à d'autres\" % (len(app.columns)-len(to_drop)))"
   ]
  },
  {
   "cell_type": "markdown",
   "metadata": {},
   "source": [
    "On met à jour la liste des variables catégorielles de notre table."
   ]
  },
  {
   "cell_type": "code",
   "execution_count": 26,
   "metadata": {},
   "outputs": [],
   "source": [
    "# On supprime ces variables de notre table\n",
    "app.drop(columns=to_drop, inplace=True)"
   ]
  },
  {
   "cell_type": "code",
   "execution_count": 27,
   "metadata": {},
   "outputs": [],
   "source": [
    "# names_quali: Content les noms des variables catégorielles de notre table\n",
    "names_quali = [feature for feature in names_quali if feature not in to_drop]\n"
   ]
  },
  {
   "cell_type": "markdown",
   "metadata": {},
   "source": [
    "## Colonnes creuses\n",
    "On va supprimer les colonnes trop faiblement remplies."
   ]
  },
  {
   "cell_type": "code",
   "execution_count": 28,
   "metadata": {},
   "outputs": [],
   "source": [
    "# ratio_filled: Taux de remplissage des colonnes\n",
    "ratio_filled = app.count()/len(app)\n",
    "# min_ratio: Taux de remplissage minimal exigé pour imputer une varible\n",
    "min_ratio = 0.75\n",
    "# to_drop: Colonnes creuses à supprimer\n",
    "to_drop = app.columns[ratio_filled<min_ratio]\n",
    "app.drop(columns=to_drop, inplace=True)"
   ]
  },
  {
   "cell_type": "code",
   "execution_count": 29,
   "metadata": {},
   "outputs": [],
   "source": [
    "# names_quali: On met à jour la liste des variables catégorielles\n",
    "names_quali = [feature for feature in names_quali if feature not in to_drop]"
   ]
  },
  {
   "cell_type": "markdown",
   "metadata": {},
   "source": [
    "## Outliers\n",
    "On va simplement supprimer les individus présentant des valeurs excessives pour des variables."
   ]
  },
  {
   "cell_type": "code",
   "execution_count": 30,
   "metadata": {},
   "outputs": [],
   "source": [
    "# names_quanti: Noms des features quantitatives\n",
    "names_quanti = app.columns[~app.columns.isin(pd.Index(names_quali))]"
   ]
  },
  {
   "cell_type": "markdown",
   "metadata": {},
   "source": [
    "On va prendre une marge de 5x l'écart interquartile."
   ]
  },
  {
   "cell_type": "code",
   "execution_count": 31,
   "metadata": {},
   "outputs": [],
   "source": [
    "drop_outliers_all(app, names_quanti, n_iqr=5)"
   ]
  },
  {
   "cell_type": "markdown",
   "metadata": {},
   "source": [
    "## Imputation"
   ]
  },
  {
   "cell_type": "markdown",
   "metadata": {},
   "source": [
    "### Imputation par la moyenne"
   ]
  },
  {
   "cell_type": "markdown",
   "metadata": {},
   "source": [
    "Pour les variables quantitatives, on utilise une simple **imputation par la moyenne**."
   ]
  },
  {
   "cell_type": "code",
   "execution_count": 32,
   "metadata": {},
   "outputs": [],
   "source": [
    "# mean_imputer: Imputeur par la moyenne\n",
    "mean_imputer = SimpleImputer(strategy='mean')\n",
    "mean_imputer.fit(app[names_quanti])\n",
    "# On impute les variables quantitatives\n",
    "app.loc[:, names_quanti] = mean_imputer.transform(app[names_quanti])\n"
   ]
  },
  {
   "cell_type": "markdown",
   "metadata": {},
   "source": [
    "### Imputation par la valeur la plus fréquente"
   ]
  },
  {
   "cell_type": "markdown",
   "metadata": {},
   "source": [
    "Pour les variables catégorielles, on utilise **impute avec la valeur la plus fréquente**."
   ]
  },
  {
   "cell_type": "code",
   "execution_count": 33,
   "metadata": {},
   "outputs": [],
   "source": [
    "# freq_imputer: Imputeur par la valeur la plus fréquence\n",
    "freq_imputer = SimpleImputer(strategy='most_frequent')\n",
    "freq_imputer.fit(app[names_quali])\n",
    "# On impute les variables qualitatives\n",
    "app.loc[:, names_quali] = freq_imputer.transform(app[names_quali])\n"
   ]
  },
  {
   "cell_type": "markdown",
   "metadata": {},
   "source": [
    "## Normalisation des données"
   ]
  },
  {
   "cell_type": "code",
   "execution_count": 34,
   "metadata": {},
   "outputs": [],
   "source": [
    "# std_scaler: Normaliseur standard\n",
    "std_scaler = StandardScaler()\n",
    "# application_scaled:\n",
    "application_scaled = std_scaler.fit_transform(app)\n"
   ]
  },
  {
   "cell_type": "markdown",
   "metadata": {},
   "source": [
    "## Bilan"
   ]
  },
  {
   "cell_type": "code",
   "execution_count": 35,
   "metadata": {},
   "outputs": [
    {
     "name": "stdout",
     "output_type": "stream",
     "text": [
      "Finalement, on a une table d'entraînement de 20416 individus et 39 variables\n"
     ]
    }
   ],
   "source": [
    "print(\"Finalement, on a une table d'entraînement de %d individus et %d variables\" % (len(app), len(app.columns)))"
   ]
  },
  {
   "cell_type": "markdown",
   "metadata": {},
   "source": [
    "# Exportation"
   ]
  },
  {
   "cell_type": "markdown",
   "metadata": {},
   "source": [
    "## Sauvegarde des opérateurs du pré-traitement "
   ]
  },
  {
   "cell_type": "markdown",
   "metadata": {},
   "source": [
    "On enregistre les encodeurs, les imputeurs et le normaliseur dans des fichiers joblib."
   ]
  },
  {
   "cell_type": "code",
   "execution_count": 36,
   "metadata": {},
   "outputs": [
    {
     "data": {
      "text/plain": [
       "['./joblib/scaler.joblib']"
      ]
     },
     "execution_count": 36,
     "metadata": {},
     "output_type": "execute_result"
    }
   ],
   "source": [
    "# job_dir: Répertoire dans lequel enregistrer les fichier joblib\n",
    "job_dir = './joblib'\n",
    "dump(onehot_enc, job_dir+'/onehot_enc.joblib')\n",
    "dump(mean_imputer, job_dir+'/mean_imputer.joblib')\n",
    "dump(freq_imputer, job_dir+'/freq_imputer.joblib')\n",
    "for feature, encoder in label_enc.items():\n",
    "    dump(encoder, job_dir+'/label_encoder-'+feature+'.joblib')\n",
    "dump(std_scaler, job_dir+'/scaler.joblib')\n"
   ]
  },
  {
   "cell_type": "markdown",
   "metadata": {},
   "source": [
    "## Essai sur les données de test"
   ]
  },
  {
   "cell_type": "code",
   "execution_count": 37,
   "metadata": {},
   "outputs": [],
   "source": [
    "# app_test: Données des candidatures de l'échantillon de tes\n",
    "data_dir = 'home-credit-default-risk'\n",
    "app_test = pd.read_csv(data_dir + '/application_test.csv')\n",
    "bureau = pd.read_csv(data_dir + '/bureau.csv')\n",
    "prev_app = pd.read_csv(data_dir + '/previous_application.csv')\n",
    "card = pd.read_csv(data_dir+'/credit_card_balance.csv')\n",
    "cash = pd.read_csv(data_dir+'/POS_CASH_balance.csv')\n",
    "onehot_enc, label_enc, mean_imputer, freq_imputer, scaler = load_joblibs(\n",
    "    './joblib')\n"
   ]
  },
  {
   "cell_type": "code",
   "execution_count": 38,
   "metadata": {},
   "outputs": [],
   "source": [
    "app_test = preprocess_data(\n",
    "    app_test, bureau, prev_app, card, cash, onehot_enc, label_enc, mean_imputer, freq_imputer, scaler)\n"
   ]
  },
  {
   "cell_type": "markdown",
   "metadata": {},
   "source": [
    "# Visualisation des données"
   ]
  },
  {
   "cell_type": "code",
   "execution_count": 39,
   "metadata": {},
   "outputs": [],
   "source": [
    "tsne = TSNE(n_components=2, perplexity=50, random_state=0, init='pca', learning_rate='auto')"
   ]
  },
  {
   "cell_type": "code",
   "execution_count": 40,
   "metadata": {},
   "outputs": [],
   "source": [
    "app['TARGET'] = target\n",
    "app_samp = app.sample(1000)\n",
    "target_samp = app_samp['TARGET']\n",
    "app_samp.drop(columns=['TARGET'], inplace=True)"
   ]
  },
  {
   "cell_type": "code",
   "execution_count": 41,
   "metadata": {},
   "outputs": [
    {
     "name": "stderr",
     "output_type": "stream",
     "text": [
      "/home/ilyes/OC/P7/venv/lib/python3.8/site-packages/sklearn/manifold/_t_sne.py:982: FutureWarning: The PCA initialization in TSNE will change to have the standard deviation of PC1 equal to 1e-4 in 1.2. This will ensure better convergence.\n",
      "  warnings.warn(\n"
     ]
    }
   ],
   "source": [
    "app_tsne = tsne.fit_transform(app_samp)"
   ]
  },
  {
   "cell_type": "code",
   "execution_count": 42,
   "metadata": {},
   "outputs": [
    {
     "data": {
      "text/plain": [
       "<matplotlib.collections.PathCollection at 0x7f61aa503d30>"
      ]
     },
     "execution_count": 42,
     "metadata": {},
     "output_type": "execute_result"
    },
    {
     "data": {
      "image/png": "[encoded data removed]",
      "text/plain": [
       "<Figure size 432x288 with 1 Axes>"
      ]
     },
     "metadata": {
      "needs_background": "light"
     },
     "output_type": "display_data"
    }
   ],
   "source": [
    "plt.scatter(app_tsne[:, 0], app_tsne[:, 1], c=target_samp)"
   ]
  },
  {
   "cell_type": "code",
   "execution_count": 43,
   "metadata": {},
   "outputs": [
    {
     "data": {
      "text/plain": [
       "2.757620096206665"
      ]
     },
     "execution_count": 43,
     "metadata": {},
     "output_type": "execute_result"
    }
   ],
   "source": [
    "tsne.kl_divergence_"
   ]
  }
 ],
 "metadata": {
  "interpreter": {
   "hash": "720b2ced0ae46bae24f42655c1417e87157c667fec698c2391a74896406acc72"
  },
  "kernelspec": {
   "display_name": "Python 3.8.10 ('venv': venv)",
   "language": "python",
   "name": "python3"
  },
  "language_info": {
   "codemirror_mode": {
    "name": "ipython",
    "version": 3
   },
   "file_extension": ".py",
   "mimetype": "text/x-python",
   "name": "python",
   "nbconvert_exporter": "python",
   "pygments_lexer": "ipython3",
   "version": "3.8.10"
  },
  "orig_nbformat": 4
 },
 "nbformat": 4,
 "nbformat_minor": 2
}
